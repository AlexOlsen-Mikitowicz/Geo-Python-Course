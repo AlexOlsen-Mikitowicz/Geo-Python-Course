{
 "cells": [
  {
   "cell_type": "code",
   "execution_count": 1,
   "metadata": {},
   "outputs": [],
   "source": [
    "import pandas as pd"
   ]
  },
  {
   "cell_type": "markdown",
   "metadata": {},
   "source": [
    "\n",
    "Problem 3 - Data analysis (4 points)\n",
    "In this problem we will explore our temperature data by comparing spring temperatures between Helsinki Kumpula and Rovaniemi. To do this we'll use some conditions to extract subsets of our data and then analyse these subsets using basic Pandas functions. Please perform the tasks below by writing your code into the codeblocks in each section.\n",
    "\n",
    "Notice: Closely follow the instructions! For example, you should be sure to use exactly the same variable names mentioned in the instructions because your answers will be automatically graded, and the tests that grade your answers rely on following the same formatting or variable naming as in the instructions.\n",
    "\n",
    "Your score on this problem will be based on following criteria:\n",
    "\n",
    "Calculating the median temperatures for Helsinki Kumpula and Rovaniemi for the summer of 2017\n",
    "Selecting temperatures for May and June 2017 in separate dataframes for each location\n",
    "Printing out some summary values for each month (May, June) and location (Kumpula, Rovaniemi)\n",
    "Including comments that explain what most lines in the code do\n",
    "Answering a couple questions at the end of the problem\n",
    "Uploading your notebook and data files to your GitHub repository for this week's exercise\n",
    "Part 1 (0 points)\n",
    "First, you need to load the data from Problem 2.\n",
    "\n",
    "Read in the csv files generated in Problem 2 to the variables kumpula and rovaniemi"
   ]
  },
  {
   "cell_type": "code",
   "execution_count": 2,
   "metadata": {},
   "outputs": [],
   "source": [
    "kumpula = pd.read_csv('Exercise5-Kumpula_temps_May_Aug_2017.csv')\n",
    "rovaniemi = pd.read_csv('Exercise5-Rovaniemi_temps_May_Aug_2017.csv')"
   ]
  },
  {
   "cell_type": "markdown",
   "metadata": {},
   "source": [
    "\n",
    "Part 2 (1 point)\n",
    "Next you can find some median temperature values for the period the data covers.\n",
    "\n",
    "What was the median Celsius temperature during the observed period in:\n",
    "Helsinki Kumpula? (store the answer in a variable kumpula_median)\n",
    "Rovaniemi? (store the answer in a variable rovaniemi_median)"
   ]
  },
  {
   "cell_type": "code",
   "execution_count": 3,
   "metadata": {},
   "outputs": [],
   "source": [
    "kumpula_median = kumpula['Celsius'].median()\n",
    "rovaniemi_median = rovaniemi['Celsius'].median()\n"
   ]
  },
  {
   "cell_type": "code",
   "execution_count": 4,
   "metadata": {},
   "outputs": [
    {
     "name": "stdout",
     "output_type": "stream",
     "text": [
      "Kumpula median:  14.0\n",
      "Rovaniemi median:  11.0\n"
     ]
    }
   ],
   "source": [
    "\n",
    "# Prints the median temperatures# Print \n",
    "print(\"Kumpula median: \", kumpula_median)\n",
    "print(\"Rovaniemi median: \", rovaniemi_median)"
   ]
  },
  {
   "cell_type": "markdown",
   "metadata": {},
   "source": [
    "Part 3 (2 points)\n",
    "The median temperatures above consider data from the entire summer (May-Aug), hence the differences might not be so clear. Let's now find out the mean temperatures from May and June 2017 in Kumpula and Rovaniemi.\n",
    "\n",
    "From the kumpula and rovaniemi DataFrames, select the rows where values of the YR--MODAHRMN column are from May 2017\n",
    "Assign these selected rows into the variables kumpula_may and rovaniemi_may (you can check the hints for help!)\n",
    "Repeat the procedure for the month of June and assign those values into variables to kumpula_june and rovaniemi_june"
   ]
  },
  {
   "cell_type": "code",
   "execution_count": 5,
   "metadata": {},
   "outputs": [],
   "source": [
    "# Select the subset of the Kumpula and Rovaniemi data for the 5th and 6th month\n",
    "#august_values = data.loc[data['YR--MODAHRMN'] >= 201708010000]\n",
    "#df = df[(df['closing_price'] >= 99) & (df['closing_price'] <= 101)]\n",
    "kumpula_may = kumpula.loc[kumpula['YR--MODAHRMN'] < 201706010000]\n",
    "rovaniemi_may = rovaniemi.loc[rovaniemi['YR--MODAHRMN'] < 201706010000]\n",
    "\n",
    "kumpula_june = kumpula[(kumpula['YR--MODAHRMN'] >= 201706010000) & (kumpula['YR--MODAHRMN'] < 201707010000)]\n",
    "rovaniemi_june = rovaniemi[(rovaniemi['YR--MODAHRMN'] >= 201706010000) & (rovaniemi['YR--MODAHRMN'] < 201707010000)]\n"
   ]
  },
  {
   "cell_type": "code",
   "execution_count": 6,
   "metadata": {},
   "outputs": [
    {
     "name": "stdout",
     "output_type": "stream",
     "text": [
      "Kumpula temperatures in May\n",
      "     USAF  YR--MODAHRMN  TEMP  MAX  MIN  Celsius\n",
      "0  29980  201705010000  37.0  NaN  NaN        2\n",
      "1  29980  201705010100  37.0  NaN  NaN        2\n",
      "2  29980  201705010200  37.0  NaN  NaN        2\n",
      "3  29980  201705010300  37.0  NaN  NaN        2\n",
      "4  29980  201705010400  39.0  NaN  NaN        3\n",
      "Rovaniemi temperatures in June\n",
      ":         USAF  YR--MODAHRMN  TEMP  MAX  MIN  Celsius\n",
      "2222  28450  201706010000  32.0  NaN  NaN        0\n",
      "2223  28450  201706010020  30.0  NaN  NaN       -1\n",
      "2224  28450  201706010050  30.0  NaN  NaN       -1\n",
      "2225  28450  201706010100  31.0  NaN  NaN        0\n",
      "2226  28450  201706010120  30.0  NaN  NaN       -1\n"
     ]
    }
   ],
   "source": [
    "\n",
    "# Prints some of the selected temperature data\n",
    "print(\"Kumpula temperatures in May\\n\", kumpula_may.head())\n",
    "print(\"Rovaniemi temperatures in June\\n: \", rovaniemi_june.head())"
   ]
  },
  {
   "cell_type": "code",
   "execution_count": 7,
   "metadata": {},
   "outputs": [
    {
     "name": "stdout",
     "output_type": "stream",
     "text": [
      "(714, 6)\n"
     ]
    }
   ],
   "source": [
    "\n",
    "# Check that the shape of kumpula_june is correct\n",
    "print(kumpula_june.shape)"
   ]
  },
  {
   "cell_type": "code",
   "execution_count": 8,
   "metadata": {},
   "outputs": [
    {
     "name": "stdout",
     "output_type": "stream",
     "text": [
      "(2222, 6)\n"
     ]
    }
   ],
   "source": [
    "# Check that the shape of rovaniemi_may is correct\n",
    "print(rovaniemi_may.shape)"
   ]
  },
  {
   "cell_type": "code",
   "execution_count": 9,
   "metadata": {},
   "outputs": [
    {
     "name": "stdout",
     "output_type": "stream",
     "text": [
      "(2127, 6)\n"
     ]
    }
   ],
   "source": [
    "\n",
    "# Check that the shape of rovaniemi_june is correct# Check \n",
    "print(rovaniemi_june.shape)"
   ]
  },
  {
   "cell_type": "markdown",
   "metadata": {},
   "source": [
    "Part 4 (1 point)\n",
    "Now you can make your temperature data from both locations and months easier to compare by printing out a few useful values.\n",
    "\n",
    "Use the print() function to show the mean, min and max Celsius temperatures for both places in May and June using the new subset dataframes (kumpula_may, rovaniemi_may, kumpula_june, and rovaniemi_june)."
   ]
  },
  {
   "cell_type": "code",
   "execution_count": 10,
   "metadata": {},
   "outputs": [
    {
     "name": "stdout",
     "output_type": "stream",
     "text": [
      "Kumpula May mean, max, min\n",
      " 9.310391363022942 22 -2\n"
     ]
    }
   ],
   "source": [
    "print('Kumpula May mean, max, min\\n', kumpula_may['Celsius'].mean(), kumpula_may['Celsius'].max(), kumpula_may['Celsius'].min())"
   ]
  },
  {
   "cell_type": "code",
   "execution_count": 11,
   "metadata": {},
   "outputs": [
    {
     "name": "stdout",
     "output_type": "stream",
     "text": [
      "Kumpula June mean, max, min\n",
      " 13.287114845938376 23 2\n"
     ]
    }
   ],
   "source": [
    "print('Kumpula June mean, max, min\\n', kumpula_june['Celsius'].mean(), kumpula_june['Celsius'].max(), kumpula_june['Celsius'].min())"
   ]
  },
  {
   "cell_type": "code",
   "execution_count": 12,
   "metadata": {},
   "outputs": [
    {
     "name": "stdout",
     "output_type": "stream",
     "text": [
      "rovaniemi mean, max, min\n",
      " -6.230873087308731 15 -9999\n"
     ]
    }
   ],
   "source": [
    "print('rovaniemi mean, max, min\\n', rovaniemi_may['Celsius'].mean(), rovaniemi_may['Celsius'].max(), rovaniemi_may['Celsius'].min())"
   ]
  },
  {
   "cell_type": "code",
   "execution_count": 13,
   "metadata": {},
   "outputs": [
    {
     "name": "stdout",
     "output_type": "stream",
     "text": [
      "rovaniemi mean, max, min\n",
      " 10.611189468735308 23 -1\n"
     ]
    }
   ],
   "source": [
    "print('rovaniemi mean, max, min\\n', rovaniemi_june['Celsius'].mean(), rovaniemi_june['Celsius'].max(), rovaniemi_june['Celsius'].min())"
   ]
  },
  {
   "cell_type": "code",
   "execution_count": null,
   "metadata": {},
   "outputs": [],
   "source": []
  }
 ],
 "metadata": {
  "kernelspec": {
   "display_name": "Python 3",
   "language": "python",
   "name": "python3"
  },
  "language_info": {
   "codemirror_mode": {
    "name": "ipython",
    "version": 3
   },
   "file_extension": ".py",
   "mimetype": "text/x-python",
   "name": "python",
   "nbconvert_exporter": "python",
   "pygments_lexer": "ipython3",
   "version": "3.7.3"
  }
 },
 "nbformat": 4,
 "nbformat_minor": 2
}
