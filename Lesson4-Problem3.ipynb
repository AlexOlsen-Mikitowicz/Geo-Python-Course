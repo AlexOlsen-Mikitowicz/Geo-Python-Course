{
 "cells": [
  {
   "cell_type": "markdown",
   "metadata": {},
   "source": [
    "Problem 3 - Applying the classifier (8 points)¶\n",
    "Finally, we can bring together the pieces that we have created in problems 1 and 2. Here, your aim is to take advantage of your new functions and reclassify a dataset of temperatures in Fahrenheit into four different classes.\n",
    "\n",
    "Part 1: Creating a script file (1 points)\n",
    "Create a new script -file called temp_functions.py into your exercise-4-username directory as we saw in Lesson 4 materials. Copy and paste the functions that you wrote in Problem 1 and Problem 2, into that script file (i.e. functions fahr_to_celsius and temp_classifier).\n",
    "Add a docstring to the script file (in addition to separate docstrings in the functions).\n",
    "Save the script file (CNTRL + S), and continue working on this Notebook (i.e. Exercise-4-problem-3.ipynb).\n",
    "Part 2: Convert Fahrenheit temperatures to Celsius (7 points)\n",
    "Store Fahrenheit temperatures into a list temp_data (just execute the existing code cell)."
   ]
  },
  {
   "cell_type": "code",
   "execution_count": 1,
   "metadata": {},
   "outputs": [],
   "source": [
    "# List of half-hourly temperature values (in degrees Fahrenheit) for one week\n",
    "temp_data =  [19, 21, 21, 21, 23, 23, 23, 21, 19, 21, 19, 21, 23, 27, 27, 28, 30, 30, 32, 32, 32, 32, \n",
    "              34, 34, 34, 36, 36, 36, 36, 36, 36, 34, 34, 34, 34, 34, 34, 32, 30, 30, 30, 28, 28, 27,\n",
    "              27, 27, 23, 23, 21, 21, 21, 19, 19, 19, 18, 18, 21, 27, 28, 30, 32, 34, 36, 37, 37, 37, \n",
    "              39, 39, 39, 39, 39, 39, 41, 41, 41, 41, 41, 39, 39, 37, 37, 36, 36, 34, 34, 32, 30, 30,\n",
    "              28, 27, 27, 25, 23, 23, 21, 21, 19, 19, 19, 18, 18, 18, 21, 25, 27, 28, 34, 34, 41, 37, \n",
    "              37, 39, 39, 39, 39, 41, 41, 39, 39, 39, 39, 39, 41, 39, 39, 39, 37, 36, 34, 32, 28, 28,\n",
    "              27, 25, 25, 25, 23, 23, 23, 23, 21, 21, 21, 21, 19, 21, 19, 21, 21, 19, 21, 27, 28, 32,\n",
    "              36, 36, 37, 39, 39, 39, 39, 39, 41, 41, 41, 41, 41, 41, 41, 41, 41, 39, 37, 36, 36, 34,\n",
    "              32, 30, 28, 28, 27, 27, 25, 25, 23, 23, 23, 21, 21, 21, 19, 19, 19, 19, 19, 19, 21, 23,\n",
    "              23, 23, 25, 27, 30, 36, 37, 37, 39, 39, 41, 41, 41, 39, 39, 41, 43, 43, 43, 43, 43, 43,\n",
    "              43, 43, 43, 39, 37, 37, 37, 36, 36, 36, 36, 34, 32, 32, 32, 32, 30, 30, 28, 28, 28, 27,\n",
    "              27, 27, 27, 25, 27, 27, 27, 28, 28, 28, 30, 32, 32, 32, 34, 34, 36, 36, 36, 37, 37, 37,\n",
    "              37, 37, 37, 37, 37, 37, 36, 34, 30, 30, 27, 27, 25, 25, 23, 21, 21, 21, 21, 19, 19, 19,\n",
    "              19, 19, 18, 18, 18, 18, 18, 19, 23, 27, 30, 32, 32, 32, 32, 32, 32, 34, 34, 34, 34, 34,\n",
    "              36, 36, 36, 36, 36, 32, 32, 32, 32, 32, 32, 32, 32, 30, 30, 30, 30, 30, 30, 30, 30, 30,\n",
    "              30, 30, 30, 30, 28, 28]"
   ]
  },
  {
   "cell_type": "code",
   "execution_count": 2,
   "metadata": {},
   "outputs": [
    {
     "name": "stdout",
     "output_type": "stream",
     "text": [
      "Exercise4-Problem1.ipynb  Lesson4-Problem3.ipynb  requirements.txt\n",
      "Exercise4-Problem2.ipynb  README.md               temp_functions.py\n"
     ]
    }
   ],
   "source": [
    "%ls"
   ]
  },
  {
   "cell_type": "markdown",
   "metadata": {},
   "source": [
    "Part 2 continues\n",
    "\n",
    "Import the fahr_to_celsius and temp_classifier functions from temp_functions.py (1 point)\n",
    "Create an empty list called temp_classes (which will be filled with temperature class numbers later)\n",
    "Convert the Fahrenheit temperatures in the temp_data list into Celsius and classify the Celsius temperatures using the importend functions. Output should be stored in the temp_classes list (3 points):\n",
    "\n",
    "You can do the temperature conversion and classification inside one for-loop:\n",
    "\n",
    "Iterate over the list of Fahrenheit temperatures (create a for-loop), and inside the loop:\n",
    "Create a new variable called temp_celsius in which you should assign the temperature in Celsius using the fahr_to_celsius function to convert the Fahrenheit temperature into Celsius.\n",
    "Create a new variable called temp_class in which you should assign the temperature class number (0, 1, 2, or 3) using the temp_classifier function\n",
    "Add the temp_class value to the temp_classes list"
   ]
  },
  {
   "cell_type": "code",
   "execution_count": 9,
   "metadata": {},
   "outputs": [],
   "source": [
    "from temp_functions import fahr_to_celsius, temp_classifier"
   ]
  },
  {
   "cell_type": "code",
   "execution_count": 10,
   "metadata": {},
   "outputs": [
    {
     "data": {
      "text/plain": [
       "3"
      ]
     },
     "execution_count": 10,
     "metadata": {},
     "output_type": "execute_result"
    }
   ],
   "source": [
    "temp_classifier(35)"
   ]
  },
  {
   "cell_type": "code",
   "execution_count": 18,
   "metadata": {},
   "outputs": [],
   "source": [
    "temp_classes = []"
   ]
  },
  {
   "cell_type": "code",
   "execution_count": 21,
   "metadata": {},
   "outputs": [],
   "source": [
    "for temp in range(len(temp_data)):\n",
    "    temp_fahr  = temp_data[temp]\n",
    "    temp_celsius = fahr_to_celsius(temp_fahr)\n",
    "    temp_class = temp_classifier(temp_celsius)\n",
    "    temp_classes.append(temp_class)"
   ]
  },
  {
   "cell_type": "markdown",
   "metadata": {},
   "source": [
    "Part 2 continues\n",
    "\n",
    "Calculate how many temperatures there are in each temperature class (2 points):\n",
    "\n",
    "Create four variables called zeros, ones, twos, and threes\n",
    "Count and assign to each variable how many times values 0, 1, 2, and 3 are present in the temp_classes list and print out the results below. I.e. assign the value of how many 0 values the list has into variable zeros, and so on."
   ]
  },
  {
   "cell_type": "code",
   "execution_count": 33,
   "metadata": {},
   "outputs": [],
   "source": [
    "zeros = temp_classes.count(0)\n",
    "ones = temp_classes.count(1)\n",
    "twos = temp_classes.count(2)\n",
    "threes = temp_classes.count(3)"
   ]
  },
  {
   "cell_type": "code",
   "execution_count": 35,
   "metadata": {},
   "outputs": [
    {
     "data": {
      "text/plain": [
       "137"
      ]
     },
     "execution_count": 35,
     "metadata": {},
     "output_type": "execute_result"
    }
   ],
   "source": [
    "\n",
    "# 1. How many 0 values exist in temp_classes -list? \n",
    "zeros\n"
   ]
  },
  {
   "cell_type": "code",
   "execution_count": 36,
   "metadata": {},
   "outputs": [
    {
     "data": {
      "text/plain": [
       "85"
      ]
     },
     "execution_count": 36,
     "metadata": {},
     "output_type": "execute_result"
    }
   ],
   "source": [
    "# 2. How many 1 values exist in temp_classes -list?\n",
    "ones\n"
   ]
  },
  {
   "cell_type": "code",
   "execution_count": 37,
   "metadata": {},
   "outputs": [
    {
     "data": {
      "text/plain": [
       "114"
      ]
     },
     "execution_count": 37,
     "metadata": {},
     "output_type": "execute_result"
    }
   ],
   "source": [
    "# 3. How many 2 values exist in temp_classes -list?\n",
    "twos\n"
   ]
  },
  {
   "cell_type": "code",
   "execution_count": 38,
   "metadata": {},
   "outputs": [
    {
     "data": {
      "text/plain": [
       "0"
      ]
     },
     "execution_count": 38,
     "metadata": {},
     "output_type": "execute_result"
    }
   ],
   "source": [
    "# 4. How many 3 values exist in temp_classes -list?\n",
    "threes"
   ]
  },
  {
   "cell_type": "code",
   "execution_count": null,
   "metadata": {},
   "outputs": [],
   "source": []
  },
  {
   "cell_type": "code",
   "execution_count": null,
   "metadata": {},
   "outputs": [],
   "source": []
  }
 ],
 "metadata": {
  "kernelspec": {
   "display_name": "Python 3",
   "language": "python",
   "name": "python3"
  },
  "language_info": {
   "codemirror_mode": {
    "name": "ipython",
    "version": 3
   },
   "file_extension": ".py",
   "mimetype": "text/x-python",
   "name": "python",
   "nbconvert_exporter": "python",
   "pygments_lexer": "ipython3",
   "version": "3.7.3"
  }
 },
 "nbformat": 4,
 "nbformat_minor": 2
}
