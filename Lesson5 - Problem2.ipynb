{
 "cells": [
  {
   "cell_type": "markdown",
   "metadata": {},
   "source": [
    "Problem 2 - Data manipulation and selection (9 points)\n",
    "In this problem you will clean the data from our data file by removing no-data values, convert temperature values in Fahrenheit to Celsius, and split the data into separate datasets using the weather station identification code. We will start this problem by cleaning and converting our temperature data. Please perform the tasks below by writing your code into the codeblocks in each section.\n",
    "\n",
    "Notice: Closely follow the instructions! For example, you should be sure to use exactly the same variable names mentioned in the instructions because your answers will be automatically graded, and the tests that grade your answers rely on following the same formatting or variable naming as in the instructions.\n",
    "\n",
    "Your score on this problem will be based on following criteria:\n",
    "\n",
    "Creating a new dataframe called selected that contains select columns from the data file\n",
    "Cleaning the new dataframe by removing no-data values\n",
    "Creating a new column for temperatures converted from Fahrenheit to Celsius\n",
    "Dividing the data into separate dataframes for the Helsinki Kumpula and Rovaniemi stations\n",
    "Saving the new dataframes to CSV files\n",
    "Including comments that explain what most lines in the code do\n",
    "Answering a couple questions at the end of the problem\n",
    "Uploading your notebook and data files to your GitHub repository for this week's exercise"
   ]
  },
  {
   "cell_type": "code",
   "execution_count": 1,
   "metadata": {},
   "outputs": [],
   "source": [
    "\n",
    "# Import Pandas and read in the data from csv\n",
    "import pandas as pd\n",
    "\n",
    "data = data = pd.read_csv('6153237444115dat.csv', na_values=['*', '**', '***', '****', '*****', '******'])\n"
   ]
  },
  {
   "cell_type": "markdown",
   "metadata": {},
   "source": [
    "\n",
    "Part 2 (2 points)\n",
    "Next, you can subset the data and remove the no-data values.\n",
    "\n",
    "Create a new variable selected\n",
    "Select the columns USAF, YR--MODAHRMN, TEMP, MAX, and MIN from the data dataframe and assign them to the new variable selected\n",
    "Remove all rows from selected that have NoData in the column TEMP using the dropna() function"
   ]
  },
  {
   "cell_type": "code",
   "execution_count": 2,
   "metadata": {},
   "outputs": [],
   "source": [
    "selected = data[['USAF','YR--MODAHRMN', 'TEMP', 'MAX', 'MIN']]"
   ]
  },
  {
   "cell_type": "code",
   "execution_count": 3,
   "metadata": {},
   "outputs": [
    {
     "data": {
      "text/html": [
       "<div>\n",
       "<style scoped>\n",
       "    .dataframe tbody tr th:only-of-type {\n",
       "        vertical-align: middle;\n",
       "    }\n",
       "\n",
       "    .dataframe tbody tr th {\n",
       "        vertical-align: top;\n",
       "    }\n",
       "\n",
       "    .dataframe thead th {\n",
       "        text-align: right;\n",
       "    }\n",
       "</style>\n",
       "<table border=\"1\" class=\"dataframe\">\n",
       "  <thead>\n",
       "    <tr style=\"text-align: right;\">\n",
       "      <th></th>\n",
       "      <th>USAF</th>\n",
       "      <th>YR--MODAHRMN</th>\n",
       "      <th>TEMP</th>\n",
       "      <th>MAX</th>\n",
       "      <th>MIN</th>\n",
       "    </tr>\n",
       "  </thead>\n",
       "  <tbody>\n",
       "    <tr>\n",
       "      <td>0</td>\n",
       "      <td>28450</td>\n",
       "      <td>201705010000</td>\n",
       "      <td>31.0</td>\n",
       "      <td>NaN</td>\n",
       "      <td>NaN</td>\n",
       "    </tr>\n",
       "    <tr>\n",
       "      <td>1</td>\n",
       "      <td>28450</td>\n",
       "      <td>201705010020</td>\n",
       "      <td>30.0</td>\n",
       "      <td>NaN</td>\n",
       "      <td>NaN</td>\n",
       "    </tr>\n",
       "    <tr>\n",
       "      <td>2</td>\n",
       "      <td>28450</td>\n",
       "      <td>201705010050</td>\n",
       "      <td>30.0</td>\n",
       "      <td>NaN</td>\n",
       "      <td>NaN</td>\n",
       "    </tr>\n",
       "    <tr>\n",
       "      <td>3</td>\n",
       "      <td>28450</td>\n",
       "      <td>201705010100</td>\n",
       "      <td>31.0</td>\n",
       "      <td>NaN</td>\n",
       "      <td>NaN</td>\n",
       "    </tr>\n",
       "    <tr>\n",
       "      <td>4</td>\n",
       "      <td>28450</td>\n",
       "      <td>201705010120</td>\n",
       "      <td>30.0</td>\n",
       "      <td>NaN</td>\n",
       "      <td>NaN</td>\n",
       "    </tr>\n",
       "  </tbody>\n",
       "</table>\n",
       "</div>"
      ],
      "text/plain": [
       "    USAF  YR--MODAHRMN  TEMP  MAX  MIN\n",
       "0  28450  201705010000  31.0  NaN  NaN\n",
       "1  28450  201705010020  30.0  NaN  NaN\n",
       "2  28450  201705010050  30.0  NaN  NaN\n",
       "3  28450  201705010100  31.0  NaN  NaN\n",
       "4  28450  201705010120  30.0  NaN  NaN"
      ]
     },
     "execution_count": 3,
     "metadata": {},
     "output_type": "execute_result"
    }
   ],
   "source": [
    "# Check your dataframe \n",
    "selected.head()"
   ]
  },
  {
   "cell_type": "code",
   "execution_count": 4,
   "metadata": {},
   "outputs": [
    {
     "data": {
      "text/plain": [
       "11694"
      ]
     },
     "execution_count": 4,
     "metadata": {},
     "output_type": "execute_result"
    }
   ],
   "source": [
    "\n",
    "# Check your dataframe # Check \n",
    "len(selected)"
   ]
  },
  {
   "cell_type": "markdown",
   "metadata": {},
   "source": [
    "Part 3 (2 points)\n",
    "Next, you can convert the temperature values in Fahrenheit to Celsius.\n",
    "\n",
    "Create a new column in selected called Celsius\n",
    "Convert the Fahrenheit temperatures from TEMP using the conversion formula (below) and store the results in the new Celsiuscolumn.\n",
    "$$\n",
    "\\begin{equation}\n",
    "  T_{\\textrm{C}} = (T_{\\textrm{F}} - 32)~/~1.8\n",
    "\\end{equation}\n",
    "$$\n",
    "Round the values in the Celsius column to have 0 decimals (do not create a new column, update the current one)\n",
    "Convert the Celsius values into integers (do not create a new column, update the current one)"
   ]
  },
  {
   "cell_type": "code",
   "execution_count": 5,
   "metadata": {},
   "outputs": [
    {
     "name": "stderr",
     "output_type": "stream",
     "text": [
      "/srv/conda/envs/notebook/lib/python3.7/site-packages/ipykernel_launcher.py:1: SettingWithCopyWarning: \n",
      "A value is trying to be set on a copy of a slice from a DataFrame.\n",
      "Try using .loc[row_indexer,col_indexer] = value instead\n",
      "\n",
      "See the caveats in the documentation: http://pandas.pydata.org/pandas-docs/stable/user_guide/indexing.html#returning-a-view-versus-a-copy\n",
      "  \"\"\"Entry point for launching an IPython kernel.\n"
     ]
    }
   ],
   "source": [
    "selected['Celsius'] = (selected['TEMP']-32)/1.8"
   ]
  },
  {
   "cell_type": "code",
   "execution_count": 6,
   "metadata": {},
   "outputs": [
    {
     "name": "stderr",
     "output_type": "stream",
     "text": [
      "/srv/conda/envs/notebook/lib/python3.7/site-packages/ipykernel_launcher.py:1: SettingWithCopyWarning: \n",
      "A value is trying to be set on a copy of a slice from a DataFrame.\n",
      "Try using .loc[row_indexer,col_indexer] = value instead\n",
      "\n",
      "See the caveats in the documentation: http://pandas.pydata.org/pandas-docs/stable/user_guide/indexing.html#returning-a-view-versus-a-copy\n",
      "  \"\"\"Entry point for launching an IPython kernel.\n"
     ]
    }
   ],
   "source": [
    "selected['Celsius'] = selected['Celsius'].fillna(-9999)"
   ]
  },
  {
   "cell_type": "code",
   "execution_count": 7,
   "metadata": {},
   "outputs": [
    {
     "name": "stderr",
     "output_type": "stream",
     "text": [
      "/srv/conda/envs/notebook/lib/python3.7/site-packages/ipykernel_launcher.py:3: SettingWithCopyWarning: \n",
      "A value is trying to be set on a copy of a slice from a DataFrame.\n",
      "Try using .loc[row_indexer,col_indexer] = value instead\n",
      "\n",
      "See the caveats in the documentation: http://pandas.pydata.org/pandas-docs/stable/user_guide/indexing.html#returning-a-view-versus-a-copy\n",
      "  This is separate from the ipykernel package so we can avoid doing imports until\n"
     ]
    }
   ],
   "source": [
    "import numpy as np\n",
    "selected['Celsius'].round(0)\n",
    "selected['Celsius'] = selected['Celsius'].astype(np.int64)"
   ]
  },
  {
   "cell_type": "markdown",
   "metadata": {},
   "source": [
    "\n",
    "Part 4 (2 points)\n",
    "Your next task is to divide selected into two separate dataframes. Please use the given variable names and write your answer to the codeblock below.\n",
    "\n",
    "Select all rows from the selected DataFrame with the USAF code 29980 into a variable called kumpula\n",
    "Select all rows from the selected DataFrame with the USAF code 28450 into a variable called rovaniemi"
   ]
  },
  {
   "cell_type": "code",
   "execution_count": 8,
   "metadata": {},
   "outputs": [],
   "source": [
    "kumpula = selected.loc[(selected['USAF'] == 29980)]"
   ]
  },
  {
   "cell_type": "code",
   "execution_count": 9,
   "metadata": {},
   "outputs": [],
   "source": [
    "rovaniemi = selected.loc[(selected['USAF'] == 28450)]"
   ]
  },
  {
   "cell_type": "code",
   "execution_count": 10,
   "metadata": {},
   "outputs": [
    {
     "name": "stdout",
     "output_type": "stream",
     "text": [
      "Kumpula: \n",
      "        USAF  YR--MODAHRMN  TEMP  MAX  MIN  Celsius\n",
      "8770  29980  201705010000  37.0  NaN  NaN        2\n",
      "8771  29980  201705010100  37.0  NaN  NaN        2\n",
      "8772  29980  201705010200  37.0  NaN  NaN        2\n",
      "8773  29980  201705010300  37.0  NaN  NaN        2\n",
      "8774  29980  201705010400  39.0  NaN  NaN        3 \n",
      "\n"
     ]
    }
   ],
   "source": [
    "# Check the dataframe\n",
    "print(\"Kumpula: \\n\", kumpula.head(), \"\\n\")"
   ]
  },
  {
   "cell_type": "code",
   "execution_count": 11,
   "metadata": {},
   "outputs": [
    {
     "name": "stdout",
     "output_type": "stream",
     "text": [
      "Kumpula: \n",
      "     USAF  YR--MODAHRMN  TEMP  MAX  MIN  Celsius\n",
      "0  28450  201705010000  31.0  NaN  NaN        0\n",
      "1  28450  201705010020  30.0  NaN  NaN       -1\n",
      "2  28450  201705010050  30.0  NaN  NaN       -1\n",
      "3  28450  201705010100  31.0  NaN  NaN        0\n",
      "4  28450  201705010120  30.0  NaN  NaN       -1 \n",
      "\n"
     ]
    }
   ],
   "source": [
    "# Check the dataframe\n",
    "print(\"Kumpula: \\n\", rovaniemi.head(), \"\\n\")"
   ]
  },
  {
   "cell_type": "markdown",
   "metadata": {},
   "source": [
    "Part 5 (3 points)\n",
    "Now you can save your selections to csv files.\n",
    "\n",
    "Save the kumpula DataFrame into the file Kumpula_temps_May_Aug_2017.csv (CSV format)\n",
    "Separate the columns with commas (,)\n",
    "Use only 2 decimals for the floating point numbers\n",
    "Save the rovaniemi DataFrame into the file Rovaniemi_temps_May_Aug_2017.csv (CSV format)\n",
    "Separate the columns with commas (,)\n",
    "Use only 2 decimals for the floating point numbers\n",
    "Upload both of your data files to your Exercise 5 repository"
   ]
  },
  {
   "cell_type": "code",
   "execution_count": 12,
   "metadata": {},
   "outputs": [],
   "source": [
    "output_1 = \"Exercise5-Kumpula_temps_May_Aug_2017.csv\"\n",
    "kumpula.to_csv(output_1, sep=',', index=False, float_format=\"%.2f\")"
   ]
  },
  {
   "cell_type": "code",
   "execution_count": 13,
   "metadata": {},
   "outputs": [],
   "source": [
    "output_2 = \"Exercise5-Rovaniemi_temps_May_Aug_2017.csv\"\n",
    "rovaniemi.to_csv(output_2, sep=',', index=False, float_format=\"%.2f\")"
   ]
  },
  {
   "cell_type": "code",
   "execution_count": null,
   "metadata": {},
   "outputs": [],
   "source": []
  }
 ],
 "metadata": {
  "kernelspec": {
   "display_name": "Python 3",
   "language": "python",
   "name": "python3"
  },
  "language_info": {
   "codemirror_mode": {
    "name": "ipython",
    "version": 3
   },
   "file_extension": ".py",
   "mimetype": "text/x-python",
   "name": "python",
   "nbconvert_exporter": "python",
   "pygments_lexer": "ipython3",
   "version": "3.7.3"
  }
 },
 "nbformat": 4,
 "nbformat_minor": 2
}
