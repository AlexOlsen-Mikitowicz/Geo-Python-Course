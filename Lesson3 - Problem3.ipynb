{
 "cells": [
  {
   "cell_type": "markdown",
   "metadata": {},
   "source": [
    "Data\n",
    "Here, we provide you the data you should use to solve the problem 3 (run the cell to get values into the memory of your computer):"
   ]
  },
  {
   "cell_type": "code",
   "execution_count": 1,
   "metadata": {},
   "outputs": [],
   "source": [
    "stations = ['Hanko Russarö', 'Heinola Asemantaus', 'Helsinki Kaisaniemi', \n",
    "            'Helsinki Malmi airfield', 'Hyvinkää Hyvinkäänkylä', 'Joutsa Savenaho', \n",
    "            'Juuka Niemelä', 'Jyväskylä airport', 'Kaarina Yltöinen', 'Kauhava airfield', \n",
    "            'Kemi Kemi-Tornio airport', 'Kotka Rankki', 'Kouvola Anjala', \n",
    "            'Kouvola Utti airport', 'Kuopio Maaninka', 'Kuusamo airport', \n",
    "            'Lieksa Lampela', 'Mustasaari Valassaaret', 'Parainen Utö', 'Pori airport', \n",
    "            'Rovaniemi Apukka', 'Salo Kärkkä', 'Savonlinna Punkaharju Laukansaari', \n",
    "            'Seinäjoki Pelmaa', 'Siikajoki Ruukki', 'Siilinjärvi Kuopio airport', \n",
    "            'Tohmajärvi Kemie', 'Utsjoki Nuorgam', 'Vaala Pelso', 'Vaasa airport', \n",
    "            'Vesanto Sonkari', 'Vieremä Kaarakkala', 'Vihti Maasoja', 'Ylitornio Meltosjärvi']\n",
    "\n",
    "# Latitude coordinates of Weather stations  \n",
    "lats = [59.77, 61.2, 60.18, 60.25, 60.6, 61.88, 63.23, 62.4,\n",
    "       60.39, 63.12, 65.78, 60.38, 60.7, 60.9, 63.14, 65.99,\n",
    "       63.32, 63.44, 59.78, 61.47, 66.58, 60.37, 61.8, 62.94,\n",
    "       64.68, 63.01, 62.24, 70.08, 64.501, 63.06, 62.92, 63.84,\n",
    "       60.42, 66.53]\n",
    "\n",
    "# Longitude coordinates of Weather stations \n",
    "lons = [22.95, 26.05, 24.94, 25.05, 24.8, 26.09, 29.23, 25.67, \n",
    "       22.55, 23.04, 24.58, 26.96, 26.81, 26.95, 27.31, 29.23, \n",
    "       30.05, 21.07, 21.37, 21.79, 26.01, 23.11, 29.32, 22.49, \n",
    "       25.09, 27.8, 30.35, 27.9, 26.42, 21.75, 26.42, 27.22, \n",
    "       24.4, 24.65]\n",
    "\n",
    "# Cutoff values that correspond to the centroid of Finnish mainland\n",
    "# North - South\n",
    "north_south_cutoff = 64.5\n",
    "\n",
    "# East-West\n",
    "east_west_cutoff = 26.3"
   ]
  },
  {
   "cell_type": "code",
   "execution_count": 2,
   "metadata": {},
   "outputs": [],
   "source": [
    "north_west = []\n",
    "north_east = []\n",
    "south_west = []\n",
    "south_east = []"
   ]
  },
  {
   "cell_type": "code",
   "execution_count": 3,
   "metadata": {},
   "outputs": [
    {
     "name": "stdout",
     "output_type": "stream",
     "text": [
      "[] []\n"
     ]
    }
   ],
   "source": [
    "# This test print should work\n",
    "print(north_west, south_west)"
   ]
  },
  {
   "cell_type": "code",
   "execution_count": 4,
   "metadata": {},
   "outputs": [
    {
     "name": "stdout",
     "output_type": "stream",
     "text": [
      "In the data, there are 34 stations.\n"
     ]
    }
   ],
   "source": [
    "# How many stations do we have?\n",
    "n = len(stations)\n",
    "print(\"In the data, there are\", n, \"stations.\")"
   ]
  },
  {
   "cell_type": "code",
   "execution_count": 5,
   "metadata": {},
   "outputs": [],
   "source": [
    "#Make a loop that iterates n times, and allocates stations to different geographical zones based on their coordinates.\n",
    "for i in range(n):\n",
    "    station = stations[i]\n",
    "    lat = lats[i]\n",
    "    lon = lons[i]\n",
    "    if lat > north_south_cutoff and lon < east_west_cutoff:\n",
    "        north_west.append(station)\n",
    "    elif lat > north_south_cutoff and lon > east_west_cutoff:\n",
    "        north_east.append(station)\n",
    "    elif lat < north_south_cutoff and lon < east_west_cutoff:\n",
    "        south_west.append(station)\n",
    "    else:\n",
    "        south_east.append(station)\n",
    "    "
   ]
  },
  {
   "cell_type": "code",
   "execution_count": 6,
   "metadata": {},
   "outputs": [
    {
     "name": "stdout",
     "output_type": "stream",
     "text": [
      "The names of the Northwest stations are:\n",
      " ['Kemi Kemi-Tornio airport', 'Rovaniemi Apukka', 'Siikajoki Ruukki', 'Ylitornio Meltosjärvi']\n"
     ]
    }
   ],
   "source": [
    "# This test print should print out station names in North West\n",
    "# Hint: there should be 4 stations in this class\n",
    "print(\"The names of the Northwest stations are:\\n\", north_west)"
   ]
  },
  {
   "cell_type": "code",
   "execution_count": 7,
   "metadata": {},
   "outputs": [
    {
     "name": "stdout",
     "output_type": "stream",
     "text": [
      "The names of the Northeast stations are:\n",
      " ['Kuusamo airport', 'Utsjoki Nuorgam', 'Vaala Pelso']\n"
     ]
    }
   ],
   "source": [
    "# This test print should print out station names in North Eest\n",
    "# Hint: there should be 3 stations in this class\n",
    "print(\"The names of the Northeast stations are:\\n\", north_east)"
   ]
  },
  {
   "cell_type": "code",
   "execution_count": 8,
   "metadata": {},
   "outputs": [
    {
     "name": "stdout",
     "output_type": "stream",
     "text": [
      "The names of the Southwest stations are:\n",
      " ['Hanko Russarö', 'Heinola Asemantaus', 'Helsinki Kaisaniemi', 'Helsinki Malmi airfield', 'Hyvinkää Hyvinkäänkylä', 'Joutsa Savenaho', 'Jyväskylä airport', 'Kaarina Yltöinen', 'Kauhava airfield', 'Mustasaari Valassaaret', 'Parainen Utö', 'Pori airport', 'Salo Kärkkä', 'Seinäjoki Pelmaa', 'Vaasa airport', 'Vihti Maasoja']\n"
     ]
    }
   ],
   "source": [
    "# This test print should print out station names in South West\n",
    "# Hint: there should be 16 stations in this class\n",
    "print(\"The names of the Southwest stations are:\\n\", south_west)"
   ]
  },
  {
   "cell_type": "code",
   "execution_count": 9,
   "metadata": {},
   "outputs": [
    {
     "name": "stdout",
     "output_type": "stream",
     "text": [
      "The names of the Southeast stations are:\n",
      " ['Juuka Niemelä', 'Kotka Rankki', 'Kouvola Anjala', 'Kouvola Utti airport', 'Kuopio Maaninka', 'Lieksa Lampela', 'Savonlinna Punkaharju Laukansaari', 'Siilinjärvi Kuopio airport', 'Tohmajärvi Kemie', 'Vesanto Sonkari', 'Vieremä Kaarakkala']\n"
     ]
    }
   ],
   "source": [
    "\n",
    "# This test print should print out station names in South East# This  \n",
    "# Hint: there should be 11 stations in this class\n",
    "print(\"The names of the Southeast stations are:\\n\", south_east)"
   ]
  },
  {
   "cell_type": "code",
   "execution_count": 18,
   "metadata": {},
   "outputs": [],
   "source": [
    "north_west_share = len(north_west)/len(stations)*100\n",
    "north_east_share = len(north_east)/len(stations)*100\n",
    "south_west_share = len(south_west)/len(stations)*100\n",
    "south_east_share = len(south_east)/len(stations)*100"
   ]
  },
  {
   "cell_type": "code",
   "execution_count": 19,
   "metadata": {},
   "outputs": [
    {
     "name": "stdout",
     "output_type": "stream",
     "text": [
      "Northwest contains 12 % of all stations.\n",
      "Northeast contains 9 % of all stations.\n",
      "Southwest contains 47 % of all stations.\n",
      "Southeast contains 32 % of all stations.\n"
     ]
    }
   ],
   "source": [
    "\n",
    "# Print the information (you don't need to modify this)# Print \n",
    "# .format() is a Python function that can be used to easily insert values inside a text-template such as below.\n",
    "# .0f below is a specific operator that rounds the decimal values into whole numbers\n",
    "print(\"Northwest contains{share: .0f} % of all stations.\".format(share=north_west_share))\n",
    "print(\"Northeast contains{share: .0f} % of all stations.\".format(share=north_east_share))\n",
    "print(\"Southwest contains{share: .0f} % of all stations.\".format(share=south_west_share))\n",
    "print(\"Southeast contains{share: .0f} % of all stations.\".format(share=south_east_share))"
   ]
  }
 ],
 "metadata": {
  "kernelspec": {
   "display_name": "Python 3",
   "language": "python",
   "name": "python3"
  },
  "language_info": {
   "codemirror_mode": {
    "name": "ipython",
    "version": 3
   },
   "file_extension": ".py",
   "mimetype": "text/x-python",
   "name": "python",
   "nbconvert_exporter": "python",
   "pygments_lexer": "ipython3",
   "version": "3.7.3"
  }
 },
 "nbformat": 4,
 "nbformat_minor": 2
}
