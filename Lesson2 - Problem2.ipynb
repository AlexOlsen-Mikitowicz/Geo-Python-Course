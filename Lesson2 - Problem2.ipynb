{
 "cells": [
  {
   "cell_type": "code",
   "execution_count": 8,
   "metadata": {},
   "outputs": [],
   "source": [
    "\n",
    "# YOUR CODE HERE# YOUR  \n",
    "\n",
    "# here is the variable which you use to set the selected month:\n",
    "selected_month_index = 10\n",
    "\n",
    "# Here are also the names of the two lists you should use for this problem. Please don't change the variable names!\n",
    "months = [\"Jan\", \"Feb\", \"Mar\", \"Apr\", \"May\", \"Jun\", \"July\", \"Aug\", \"Sep\", \"Oct\", \"Nov\", \"Dec\"]\n",
    "average_temp = [1,2,3,4,5,6,7,8,9,10,11,12]\n",
    "\n",
    "# Using the lists and their indices, generate the desired print statement:\n",
    "print_statement = \"The average temperature in Helsinki in \" +str(months[selected_month_index])+ \" is \" + str(average_temp[selected_month_index])"
   ]
  },
  {
   "cell_type": "code",
   "execution_count": 9,
   "metadata": {},
   "outputs": [
    {
     "name": "stdout",
     "output_type": "stream",
     "text": [
      "The average temperature in Helsinki in Nov is 11\n"
     ]
    }
   ],
   "source": [
    "print(print_statement)"
   ]
  },
  {
   "cell_type": "code",
   "execution_count": null,
   "metadata": {},
   "outputs": [],
   "source": []
  }
 ],
 "metadata": {
  "kernelspec": {
   "display_name": "Python 3",
   "language": "python",
   "name": "python3"
  },
  "language_info": {
   "codemirror_mode": {
    "name": "ipython",
    "version": 3
   },
   "file_extension": ".py",
   "mimetype": "text/x-python",
   "name": "python",
   "nbconvert_exporter": "python",
   "pygments_lexer": "ipython3",
   "version": "3.7.3"
  }
 },
 "nbformat": 4,
 "nbformat_minor": 2
}
